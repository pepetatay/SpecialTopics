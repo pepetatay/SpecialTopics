{
 "cells": [
  {
   "cell_type": "code",
   "execution_count": null,
   "metadata": {},
   "outputs": [],
   "source": [
    "# Imports\n",
    "import numpy as np\n",
    "from numpy import linalg as LA\n",
    "\n",
    "# Plotting imports\n",
    "import matplotlib as mpl\n",
    "from mpl_toolkits.mplot3d import Axes3D\n",
    "\n",
    "\n",
    "import pathlib\n",
    "\n",
    "import matplotlib.pyplot as plt\n",
    "import numpy as np\n",
    "import pandas as pd\n",
    "import seaborn as sns\n",
    "import math\n",
    "\n",
    "\n",
    "import tensorflow as tf\n",
    "\n",
    "from tensorflow import keras\n",
    "from tensorflow.keras import layers\n",
    "\n",
    "print(tf.__version__)"
   ]
  },
  {
   "cell_type": "code",
   "execution_count": null,
   "metadata": {},
   "outputs": [],
   "source": [
    "data = np.loadtxt( \"ANNdata.txt\" )\n",
    "dataset = pd.DataFrame({'alpha': data[:,0], 'tU': data[:,1] , 'tS': data[:,2], 'norm': data[:,3]})\n",
    "dataset.tail()"
   ]
  },
  {
   "cell_type": "code",
   "execution_count": null,
   "metadata": {},
   "outputs": [],
   "source": [
    "plt.plot(data[:,0]*180/np.pi, data[:,3], color='black')\n",
    "plt.xlabel('Cone angle (deg)',fontsize=13)\n",
    "plt.ylabel('Euclidean-Norm (-)',fontsize=13)\n",
    "plt.tick_params(axis='both', labelsize=13)\n",
    "plt.grid()"
   ]
  },
  {
   "cell_type": "code",
   "execution_count": null,
   "metadata": {},
   "outputs": [],
   "source": [
    "plt.plot(data[:,1]*5022415/(365.25*24*3600), data[:,3], color='black')\n",
    "plt.xlabel('TOF Unstable (years)',fontsize=13)\n",
    "plt.ylabel('Euclidean-Norm (-)',fontsize=13)\n",
    "plt.tick_params(axis='both', labelsize=13)\n",
    "plt.grid()"
   ]
  },
  {
   "cell_type": "code",
   "execution_count": null,
   "metadata": {},
   "outputs": [],
   "source": [
    "plt.plot(-data[:,2]*5022415/(365.25*24*3600), data[:,3], color='black')\n",
    "plt.xlabel('TOF Stable (years)',fontsize=13)\n",
    "plt.ylabel('Euclidean-Norm (-)',fontsize=13)\n",
    "plt.tick_params(axis='both', labelsize=13)\n",
    "plt.grid()"
   ]
  },
  {
   "cell_type": "code",
   "execution_count": null,
   "metadata": {},
   "outputs": [],
   "source": [
    "inp_train_dataset = dataset.sample(frac=0.8,random_state=23)\n",
    "out_train_dataset = inp_train_dataset.pop('norm')\n",
    "\n",
    "inp_test_dataset = dataset.drop(inp_train_dataset.index)\n",
    "out_test_dataset = inp_test_dataset.pop('norm')"
   ]
  },
  {
   "cell_type": "code",
   "execution_count": null,
   "metadata": {},
   "outputs": [],
   "source": [
    "inp_train_stats = inp_test_dataset.describe()\n",
    "inp_train_stats = inp_train_stats.transpose()\n",
    "inp_train_stats"
   ]
  },
  {
   "cell_type": "code",
   "execution_count": null,
   "metadata": {},
   "outputs": [],
   "source": [
    "def norm(x):\n",
    "  return (x - inp_train_stats['mean']) / inp_train_stats['std']\n",
    "\n",
    "inp_normed_train_data = norm(inp_train_dataset)\n",
    "inp_normed_test_data = norm(inp_test_dataset)"
   ]
  },
  {
   "cell_type": "code",
   "execution_count": null,
   "metadata": {},
   "outputs": [],
   "source": [
    "inp_normed_train_data"
   ]
  },
  {
   "cell_type": "code",
   "execution_count": null,
   "metadata": {},
   "outputs": [],
   "source": [
    "def build_model():\n",
    "  model = keras.Sequential([\n",
    "    layers.Dense(50, activation='relu', input_shape=[3]),\n",
    "    layers.Dense(50, activation='relu'),\n",
    "    layers.Dense(1)\n",
    "  ])\n",
    "\n",
    "  optimizer = tf.keras.optimizers.RMSprop(0.001)\n",
    "\n",
    "  model.compile(loss='mse',\n",
    "                optimizer='adam',\n",
    "                metrics=['mae', 'mse'])\n",
    "  return model"
   ]
  },
  {
   "cell_type": "code",
   "execution_count": null,
   "metadata": {},
   "outputs": [],
   "source": [
    "model = build_model()"
   ]
  },
  {
   "cell_type": "code",
   "execution_count": null,
   "metadata": {},
   "outputs": [],
   "source": [
    "EPOCHS = 100\n",
    "\n",
    "history = model.fit(\n",
    "  x = inp_normed_train_data, y = out_train_dataset,\n",
    "  epochs=EPOCHS, validation_split = 0.2, verbose = 0)\n",
    "\n",
    "plt.plot(history.history['mean_absolute_error'])\n",
    "plt.plot(history.history['val_mean_absolute_error'])\n",
    "plt.title('Mean absolute error')\n",
    "plt.xlabel('epoch')\n",
    "plt.legend(['MAE train','MAE val.'],loc='upper right',fontsize=13)\n",
    "plt.show()"
   ]
  },
  {
   "cell_type": "code",
   "execution_count": null,
   "metadata": {},
   "outputs": [],
   "source": [
    "history.history['val_mean_absolute_error'][-1]"
   ]
  },
  {
   "cell_type": "code",
   "execution_count": null,
   "metadata": {},
   "outputs": [],
   "source": [
    "test_predictions = model.predict(inp_normed_test_data)\n",
    "test_labels = out_test_dataset"
   ]
  },
  {
   "cell_type": "code",
   "execution_count": null,
   "metadata": {},
   "outputs": [],
   "source": [
    "a = plt.axes(aspect='equal')\n",
    "plt.scatter(out_test_dataset, test_predictions, color='black')\n",
    "plt.xlabel('Euclidean-Norm True Values',fontsize=13)\n",
    "plt.ylabel('Euclidean-Norm Predictions',fontsize=13)\n",
    "plt.tick_params(axis='both', labelsize=13)\n",
    "plt.grid()\n",
    "\n",
    "lims = [0, 2]\n",
    "plt.xlim(lims)\n",
    "plt.ylim(lims)\n",
    "_ = plt.plot(lims, lims, color='black')\n"
   ]
  },
  {
   "cell_type": "code",
   "execution_count": null,
   "metadata": {
    "scrolled": true
   },
   "outputs": [],
   "source": [
    "test_predictions = model.predict(inp_normed_test_data)\n",
    "test_labels = out_test_dataset\n",
    "test_labels = np.array([np.array(test_labels)]).T\n",
    "\n",
    "error = np.array(test_predictions) - test_labels\n",
    "\n",
    "plt.hist(error, bins = 25, color='black')\n",
    "plt.xlabel(\"Prediction Error\",fontsize=13)\n",
    "_ = plt.ylabel(\"Count\",fontsize=13)\n",
    "plt.tick_params(axis='both', labelsize=13)\n",
    "plt.grid()\n",
    "\n",
    "error_mean = np.mean(error)\n",
    "error_stdv = np.std(error)\n",
    "\n",
    "error_mean\n",
    "error_stdv"
   ]
  },
  {
   "cell_type": "code",
   "execution_count": null,
   "metadata": {},
   "outputs": [],
   "source": [
    "MCruns = 100000;\n",
    "np.random.seed(123)\n",
    "alphas = np.random.uniform(-55*np.pi/180, 55*np.pi/180, MCruns).tolist()\n",
    "tUs    = np.random.uniform(0, 35, MCruns).tolist()\n",
    "tSs    = np.random.uniform(-35, 0, MCruns).tolist()\n",
    "\n",
    "inp_predict_data = pd.DataFrame({'alpha': alphas, 'tU': tUs , 'tS': tSs})\n",
    "\n",
    "inp_normed_predict_data = norm(inp_predict_data)\n",
    "\n",
    "model_predictions = model.predict(inp_normed_predict_data)\n"
   ]
  },
  {
   "cell_type": "code",
   "execution_count": null,
   "metadata": {},
   "outputs": [],
   "source": [
    "plt.scatter(inp_predict_data['alpha']*180/np.pi, model_predictions, color='black')\n",
    "plt.xlabel('Cone angle (deg)',fontsize=13)\n",
    "plt.ylabel('Euclidean-Norm (-)',fontsize=13)\n",
    "plt.tick_params(axis='both', labelsize=13)\n",
    "plt.grid()"
   ]
  },
  {
   "cell_type": "code",
   "execution_count": null,
   "metadata": {},
   "outputs": [],
   "source": [
    "# Cleaning Plot\n",
    "alphas_plot[np.argmin(eucl_plot)]\n",
    "alphas = np.round(np.array(alphas)*180/np.pi,1)\n",
    "alphas_sorted = np.sort(alphas)\n",
    "alphas_arg = np.argsort(alphas)\n",
    "alphas_plot = [alphas_sorted[0]]\n",
    "eucl_plot = [model_predictions[alphas_arg[0]]]\n",
    "eucl_min = model_predictions[alphas_arg[0]]\n",
    "for i in range(len(alphas)-1):\n",
    "    if alphas_sorted[i+1]>alphas_sorted[i]:\n",
    "        alphas_plot.append(alphas_sorted[i])\n",
    "        eucl_plot.append(eucl_min)\n",
    "        eucl_min = np.Inf\n",
    "    if model_predictions[alphas_arg[i+1]] < eucl_min:\n",
    "        eucl_min = model_predictions[alphas_arg[i+1]]"
   ]
  },
  {
   "cell_type": "code",
   "execution_count": null,
   "metadata": {},
   "outputs": [],
   "source": [
    "plt.plot(alphas_plot, eucl_plot, color='black')\n",
    "plt.xlabel('Cone angle (deg)',fontsize=13)\n",
    "plt.ylabel('Euclidean-Norm (-)',fontsize=13)\n",
    "plt.tick_params(axis='both', labelsize=13)\n",
    "plt.grid()\n",
    "alphas_plot[np.argmin(eucl_plot)]\n",
    "# min(eucl_plot)"
   ]
  },
  {
   "cell_type": "code",
   "execution_count": null,
   "metadata": {},
   "outputs": [],
   "source": [
    "# %matplotlib qt\n",
    "\n",
    "%matplotlib inline"
   ]
  }
 ],
 "metadata": {
  "kernelspec": {
   "display_name": "Python 3",
   "language": "python",
   "name": "python3"
  },
  "language_info": {
   "codemirror_mode": {
    "name": "ipython",
    "version": 3
   },
   "file_extension": ".py",
   "mimetype": "text/x-python",
   "name": "python",
   "nbconvert_exporter": "python",
   "pygments_lexer": "ipython3",
   "version": "3.7.6"
  }
 },
 "nbformat": 4,
 "nbformat_minor": 4
}
